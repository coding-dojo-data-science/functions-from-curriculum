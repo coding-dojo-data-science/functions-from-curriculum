{
 "cells": [
  {
   "cell_type": "markdown",
   "metadata": {},
   "source": [
    "# Course 06 Custom Functions Tester"
   ]
  },
  {
   "cell_type": "code",
   "execution_count": 1,
   "metadata": {},
   "outputs": [],
   "source": [
    "import tensorflow as tf\n",
    "import numpy as np\n",
    "\n",
    "# Then Set Random Seeds\n",
    "tf.keras.utils.set_random_seed(42)\n",
    "tf.random.set_seed(42)\n",
    "np.random.seed(42)\n",
    "\n",
    "# Then run the Enable Deterministic Operations Function\n",
    "tf.config.experimental.enable_op_determinism()\n",
    "\n",
    "# Source: https://discuss.tensorflow.org/t/upgrading-os-to-sonoma-on-my-mac-causing-tensorflow-errors/19846/5\n",
    "tf.config.set_visible_devices([], 'GPU')\n"
   ]
  },
  {
   "cell_type": "code",
   "execution_count": 2,
   "metadata": {},
   "outputs": [],
   "source": [
    "%load_ext autoreload\n",
    "%autoreload 2\n",
    "\n",
    "import custom_functions as fn"
   ]
  },
  {
   "cell_type": "code",
   "execution_count": 3,
   "metadata": {},
   "outputs": [],
   "source": [
    "import pandas as pd\n",
    "import joblib\n",
    "import matplotlib.pyplot as plt\n",
    "import matplotlib as mpl\n",
    "import seaborn as sns\n",
    "import numpy as np\n",
    "from imblearn.under_sampling import RandomUnderSampler\n",
    "import spacy\n",
    "from sklearn.model_selection import train_test_split\n",
    "from sklearn.pipeline import Pipeline\n",
    "from sklearn.feature_extraction.text import CountVectorizer, TfidfVectorizer\n",
    "from sklearn.ensemble import RandomForestClassifier\n",
    "from sklearn.naive_bayes import MultinomialNB\n",
    "from sklearn import metrics\n",
    "from sklearn.metrics import ConfusionMatrixDisplay, classification_report\n",
    "import tensorflow as tf\n",
    "# Increase column width\n",
    "pd.set_option('display.max_colwidth', 250)\n",
    "import tensorflow as tf\n"
   ]
  },
  {
   "cell_type": "code",
   "execution_count": 4,
   "metadata": {},
   "outputs": [
    {
     "data": {
      "text/html": [
       "<div>\n",
       "<style scoped>\n",
       "    .dataframe tbody tr th:only-of-type {\n",
       "        vertical-align: middle;\n",
       "    }\n",
       "\n",
       "    .dataframe tbody tr th {\n",
       "        vertical-align: top;\n",
       "    }\n",
       "\n",
       "    .dataframe thead th {\n",
       "        text-align: right;\n",
       "    }\n",
       "</style>\n",
       "<table border=\"1\" class=\"dataframe\">\n",
       "  <thead>\n",
       "    <tr style=\"text-align: right;\">\n",
       "      <th></th>\n",
       "      <th>review_id</th>\n",
       "      <th>text</th>\n",
       "      <th>stars</th>\n",
       "    </tr>\n",
       "  </thead>\n",
       "  <tbody>\n",
       "    <tr>\n",
       "      <th>0</th>\n",
       "      <td>Ebl0LmHkLsQk9hP0rBm3GA</td>\n",
       "      <td>Ate here twice and had both atmosphere and great tapas. The Jamon plate, bravas, Spanish omelette, stuffed date, pork, Brussels sprouts, wine and amazing pear dessert...I could go on and on. If visiting, Please make a reservation as soon as you a...</td>\n",
       "      <td>5</td>\n",
       "    </tr>\n",
       "    <tr>\n",
       "      <th>1</th>\n",
       "      <td>DBa7PNBoBGJMc2qXXl4pRA</td>\n",
       "      <td>My boyfriend and I got recommended this place by a SB local! We were just amazed! Everything from the look and feel of the place to the appetizer to the main dish, the dessert and the service was just perfect! Our food was just amazing!!!</td>\n",
       "      <td>5</td>\n",
       "    </tr>\n",
       "    <tr>\n",
       "      <th>2</th>\n",
       "      <td>BMfEah7vUKUvQeUTCR34iQ</td>\n",
       "      <td>I had no expectations being a first time customer, however it didn't live up to the expectations. It being a busy night I'm surprised they did not have enough bartenders at the bar. It also made it hard not knowing who was a bartender and on top ...</td>\n",
       "      <td>1</td>\n",
       "    </tr>\n",
       "    <tr>\n",
       "      <th>3</th>\n",
       "      <td>hCBnvLjQ18P-j_6XdC6Vqg</td>\n",
       "      <td>It was a pleasant surprise walking into this restaurant from the customer service to the food. If you're ever staying at the Hampton Inns and looking for great tasting Mexican food at walking distance check out El Pollo RICO. I ordered 1/4 of chi...</td>\n",
       "      <td>5</td>\n",
       "    </tr>\n",
       "    <tr>\n",
       "      <th>4</th>\n",
       "      <td>SCmr3Z6qBnMd_D42YJxElA</td>\n",
       "      <td>Everything we had today at Mesa Burger was great.  Super friendly staff here.  Fries and onion rings were delivered hot!  Ask for some ranch on the side.\\n\\nBoth Mesa Burgers we ordered were cooked perfectly.  One turkey, the other beef.  Both ta...</td>\n",
       "      <td>5</td>\n",
       "    </tr>\n",
       "    <tr>\n",
       "      <th>...</th>\n",
       "      <td>...</td>\n",
       "      <td>...</td>\n",
       "      <td>...</td>\n",
       "    </tr>\n",
       "    <tr>\n",
       "      <th>15315</th>\n",
       "      <td>knje_Hin80Hi5J37dbi8Rg</td>\n",
       "      <td>We ate lunch on NY eve as part of the Funk zone celebration. Kids are free though that was specific to the event. Our meal included Black and Bleu burger. My wife said it was delicious.  I had the pastrami sandwich which was the best I've ever ta...</td>\n",
       "      <td>5</td>\n",
       "    </tr>\n",
       "    <tr>\n",
       "      <th>15316</th>\n",
       "      <td>GlufU3g_n_kQz2ThBFj6_w</td>\n",
       "      <td>TL;DR - go here. These other thousands of reviews don't lie; such good Mexican food and there was a bit of a wait even at 1pm but it moved along quickly and we got a table before our food arrived. \\n\\nEverything we ordered was really good - the v...</td>\n",
       "      <td>5</td>\n",
       "    </tr>\n",
       "    <tr>\n",
       "      <th>15317</th>\n",
       "      <td>OHFKY49tq2SYKLtAAcpVRg</td>\n",
       "      <td>This is Santa Barbara's best kept secret. \\n\\nI first went here when I was eight years old. One day when I was reading at Chaucer's bookstore (and it's still there), we wanted to get dinner. Then we saw Harry's and decided to stop by. It was one ...</td>\n",
       "      <td>5</td>\n",
       "    </tr>\n",
       "    <tr>\n",
       "      <th>15318</th>\n",
       "      <td>9B7uqL4wOBEWc0zxenzUUg</td>\n",
       "      <td>My wife went to lunch there today, I was recommended The Rev. ( Fish and Chips )by the waitress. It undoubtedly was the absolute worst and greasiest Mahi Mahi I ever tasted and the curly fries were dripping with cooking oil. Couldn't eat them.I r...</td>\n",
       "      <td>1</td>\n",
       "    </tr>\n",
       "    <tr>\n",
       "      <th>15319</th>\n",
       "      <td>PAa_KpNM4RUX7A4JTP0RKQ</td>\n",
       "      <td>Been here twice, and both times didn't disappoint. Had the same food both times. This was recommended to use from a friend and we weren't disappointed. \\n\\nIt's just as th name says, \"On the Alley\" in the harbor on one of the alley in let's. It's...</td>\n",
       "      <td>5</td>\n",
       "    </tr>\n",
       "  </tbody>\n",
       "</table>\n",
       "<p>15320 rows × 3 columns</p>\n",
       "</div>"
      ],
      "text/plain": [
       "                    review_id  \\\n",
       "0      Ebl0LmHkLsQk9hP0rBm3GA   \n",
       "1      DBa7PNBoBGJMc2qXXl4pRA   \n",
       "2      BMfEah7vUKUvQeUTCR34iQ   \n",
       "3      hCBnvLjQ18P-j_6XdC6Vqg   \n",
       "4      SCmr3Z6qBnMd_D42YJxElA   \n",
       "...                       ...   \n",
       "15315  knje_Hin80Hi5J37dbi8Rg   \n",
       "15316  GlufU3g_n_kQz2ThBFj6_w   \n",
       "15317  OHFKY49tq2SYKLtAAcpVRg   \n",
       "15318  9B7uqL4wOBEWc0zxenzUUg   \n",
       "15319  PAa_KpNM4RUX7A4JTP0RKQ   \n",
       "\n",
       "                                                                                                                                                                                                                                                            text  \\\n",
       "0      Ate here twice and had both atmosphere and great tapas. The Jamon plate, bravas, Spanish omelette, stuffed date, pork, Brussels sprouts, wine and amazing pear dessert...I could go on and on. If visiting, Please make a reservation as soon as you a...   \n",
       "1                 My boyfriend and I got recommended this place by a SB local! We were just amazed! Everything from the look and feel of the place to the appetizer to the main dish, the dessert and the service was just perfect! Our food was just amazing!!!   \n",
       "2      I had no expectations being a first time customer, however it didn't live up to the expectations. It being a busy night I'm surprised they did not have enough bartenders at the bar. It also made it hard not knowing who was a bartender and on top ...   \n",
       "3      It was a pleasant surprise walking into this restaurant from the customer service to the food. If you're ever staying at the Hampton Inns and looking for great tasting Mexican food at walking distance check out El Pollo RICO. I ordered 1/4 of chi...   \n",
       "4      Everything we had today at Mesa Burger was great.  Super friendly staff here.  Fries and onion rings were delivered hot!  Ask for some ranch on the side.\\n\\nBoth Mesa Burgers we ordered were cooked perfectly.  One turkey, the other beef.  Both ta...   \n",
       "...                                                                                                                                                                                                                                                          ...   \n",
       "15315  We ate lunch on NY eve as part of the Funk zone celebration. Kids are free though that was specific to the event. Our meal included Black and Bleu burger. My wife said it was delicious.  I had the pastrami sandwich which was the best I've ever ta...   \n",
       "15316  TL;DR - go here. These other thousands of reviews don't lie; such good Mexican food and there was a bit of a wait even at 1pm but it moved along quickly and we got a table before our food arrived. \\n\\nEverything we ordered was really good - the v...   \n",
       "15317  This is Santa Barbara's best kept secret. \\n\\nI first went here when I was eight years old. One day when I was reading at Chaucer's bookstore (and it's still there), we wanted to get dinner. Then we saw Harry's and decided to stop by. It was one ...   \n",
       "15318  My wife went to lunch there today, I was recommended The Rev. ( Fish and Chips )by the waitress. It undoubtedly was the absolute worst and greasiest Mahi Mahi I ever tasted and the curly fries were dripping with cooking oil. Couldn't eat them.I r...   \n",
       "15319  Been here twice, and both times didn't disappoint. Had the same food both times. This was recommended to use from a friend and we weren't disappointed. \\n\\nIt's just as th name says, \"On the Alley\" in the harbor on one of the alley in let's. It's...   \n",
       "\n",
       "       stars  \n",
       "0          5  \n",
       "1          5  \n",
       "2          1  \n",
       "3          5  \n",
       "4          5  \n",
       "...      ...  \n",
       "15315      5  \n",
       "15316      5  \n",
       "15317      5  \n",
       "15318      1  \n",
       "15319      5  \n",
       "\n",
       "[15320 rows x 3 columns]"
      ]
     },
     "execution_count": 4,
     "metadata": {},
     "output_type": "execute_result"
    }
   ],
   "source": [
    "import pandas as pd\n",
    "\n",
    "df = pd.read_csv(\"data/yelp-reviews-filtered.csv\")\n",
    "df"
   ]
  },
  {
   "cell_type": "code",
   "execution_count": 5,
   "metadata": {},
   "outputs": [
    {
     "name": "stderr",
     "output_type": "stream",
     "text": [
      "15320it [00:50, 300.62it/s] \n"
     ]
    },
    {
     "data": {
      "text/html": [
       "<div>\n",
       "<style scoped>\n",
       "    .dataframe tbody tr th:only-of-type {\n",
       "        vertical-align: middle;\n",
       "    }\n",
       "\n",
       "    .dataframe tbody tr th {\n",
       "        vertical-align: top;\n",
       "    }\n",
       "\n",
       "    .dataframe thead th {\n",
       "        text-align: right;\n",
       "    }\n",
       "</style>\n",
       "<table border=\"1\" class=\"dataframe\">\n",
       "  <thead>\n",
       "    <tr style=\"text-align: right;\">\n",
       "      <th></th>\n",
       "      <th>review_id</th>\n",
       "      <th>text</th>\n",
       "      <th>stars</th>\n",
       "      <th>tokens</th>\n",
       "    </tr>\n",
       "  </thead>\n",
       "  <tbody>\n",
       "    <tr>\n",
       "      <th>0</th>\n",
       "      <td>Ebl0LmHkLsQk9hP0rBm3GA</td>\n",
       "      <td>Ate here twice and had both atmosphere and great tapas. The Jamon plate, bravas, Spanish omelette, stuffed date, pork, Brussels sprouts, wine and amazing pear dessert...I could go on and on. If visiting, Please make a reservation as soon as you a...</td>\n",
       "      <td>5</td>\n",
       "      <td>[ate, twice, atmosphere, great, tapas, jamon, plate, bravas, spanish, omelette, stuffed, date, pork, brussels, sprouts, wine, amazing, pear, dessert, visiting, reservation, soon, arrive, town, eat, 9, pm, heard, serve, jamon, appetizers, bar, res...</td>\n",
       "    </tr>\n",
       "    <tr>\n",
       "      <th>1</th>\n",
       "      <td>DBa7PNBoBGJMc2qXXl4pRA</td>\n",
       "      <td>My boyfriend and I got recommended this place by a SB local! We were just amazed! Everything from the look and feel of the place to the appetizer to the main dish, the dessert and the service was just perfect! Our food was just amazing!!!</td>\n",
       "      <td>5</td>\n",
       "      <td>[boyfriend, got, recommended, place, sb, local, amazed, look, feel, place, appetizer, main, dish, dessert, service, perfect, food, amazing]</td>\n",
       "    </tr>\n",
       "    <tr>\n",
       "      <th>2</th>\n",
       "      <td>BMfEah7vUKUvQeUTCR34iQ</td>\n",
       "      <td>I had no expectations being a first time customer, however it didn't live up to the expectations. It being a busy night I'm surprised they did not have enough bartenders at the bar. It also made it hard not knowing who was a bartender and on top ...</td>\n",
       "      <td>1</td>\n",
       "      <td>[expectations, time, customer, live, expectations, busy, night, surprised, bartenders, bar, hard, knowing, bartender, bartender, left, section, couple, minutes, coming, anytime, soon]</td>\n",
       "    </tr>\n",
       "    <tr>\n",
       "      <th>3</th>\n",
       "      <td>hCBnvLjQ18P-j_6XdC6Vqg</td>\n",
       "      <td>It was a pleasant surprise walking into this restaurant from the customer service to the food. If you're ever staying at the Hampton Inns and looking for great tasting Mexican food at walking distance check out El Pollo RICO. I ordered 1/4 of chi...</td>\n",
       "      <td>5</td>\n",
       "      <td>[pleasant, surprise, walking, restaurant, customer, service, food, staying, hampton, inns, looking, great, tasting, mexican, food, walking, distance, check, el, pollo, rico, ordered, 1/4, chicken, plate, boyfriend, ordered, 1/4, combo, chicken, t...</td>\n",
       "    </tr>\n",
       "    <tr>\n",
       "      <th>4</th>\n",
       "      <td>SCmr3Z6qBnMd_D42YJxElA</td>\n",
       "      <td>Everything we had today at Mesa Burger was great.  Super friendly staff here.  Fries and onion rings were delivered hot!  Ask for some ranch on the side.\\n\\nBoth Mesa Burgers we ordered were cooked perfectly.  One turkey, the other beef.  Both ta...</td>\n",
       "      <td>5</td>\n",
       "      <td>[today, mesa, burger, great, super, friendly, staff, fries, onion, rings, delivered, hot, ask, ranch, mesa, burgers, ordered, cooked, perfectly, turkey, beef, tasted, good, quality, bite, gf, turkey, burger, generally, stay, away, turkey, burgers...</td>\n",
       "    </tr>\n",
       "    <tr>\n",
       "      <th>...</th>\n",
       "      <td>...</td>\n",
       "      <td>...</td>\n",
       "      <td>...</td>\n",
       "      <td>...</td>\n",
       "    </tr>\n",
       "    <tr>\n",
       "      <th>15315</th>\n",
       "      <td>knje_Hin80Hi5J37dbi8Rg</td>\n",
       "      <td>We ate lunch on NY eve as part of the Funk zone celebration. Kids are free though that was specific to the event. Our meal included Black and Bleu burger. My wife said it was delicious.  I had the pastrami sandwich which was the best I've ever ta...</td>\n",
       "      <td>5</td>\n",
       "      <td>[ate, lunch, ny, eve, funk, zone, celebration, kids, free, specific, event, meal, included, black, bleu, burger, wife, said, delicious, pastrami, sandwich, best, tasted, shared, fried, cauliflower, buffalo, sauce, amazing, craft, beer, menu, adva...</td>\n",
       "    </tr>\n",
       "    <tr>\n",
       "      <th>15316</th>\n",
       "      <td>GlufU3g_n_kQz2ThBFj6_w</td>\n",
       "      <td>TL;DR - go here. These other thousands of reviews don't lie; such good Mexican food and there was a bit of a wait even at 1pm but it moved along quickly and we got a table before our food arrived. \\n\\nEverything we ordered was really good - the v...</td>\n",
       "      <td>5</td>\n",
       "      <td>[tl;dr, thousands, reviews, lie, good, mexican, food, bit, wait, 1, pm, moved, quickly, got, table, food, arrived, ordered, good, veggie, suiza, enchiladas, steak, wet, burrito, burrito, mojado, got, fizzy, guava, soda, hella, good, chips, salsa,...</td>\n",
       "    </tr>\n",
       "    <tr>\n",
       "      <th>15317</th>\n",
       "      <td>OHFKY49tq2SYKLtAAcpVRg</td>\n",
       "      <td>This is Santa Barbara's best kept secret. \\n\\nI first went here when I was eight years old. One day when I was reading at Chaucer's bookstore (and it's still there), we wanted to get dinner. Then we saw Harry's and decided to stop by. It was one ...</td>\n",
       "      <td>5</td>\n",
       "      <td>[santa, barbara, best, kept, secret, went, years, old, day, reading, chaucer, bookstore, wanted, dinner, saw, harry, decided, stop, best, decisions, harry, looks, inconspicuous, outside, inside, know, right, choice, sets, apart, different, touris...</td>\n",
       "    </tr>\n",
       "    <tr>\n",
       "      <th>15318</th>\n",
       "      <td>9B7uqL4wOBEWc0zxenzUUg</td>\n",
       "      <td>My wife went to lunch there today, I was recommended The Rev. ( Fish and Chips )by the waitress. It undoubtedly was the absolute worst and greasiest Mahi Mahi I ever tasted and the curly fries were dripping with cooking oil. Couldn't eat them.I r...</td>\n",
       "      <td>1</td>\n",
       "      <td>[wife, went, lunch, today, recommended, rev., fish, chips, waitress, undoubtedly, absolute, worst, greasiest, mahi, mahi, tasted, curly, fries, dripping, cooking, oil, eat, recommend, remove, menu, ordered, breakfast, bacon, good, salty, breakfas...</td>\n",
       "    </tr>\n",
       "    <tr>\n",
       "      <th>15319</th>\n",
       "      <td>PAa_KpNM4RUX7A4JTP0RKQ</td>\n",
       "      <td>Been here twice, and both times didn't disappoint. Had the same food both times. This was recommended to use from a friend and we weren't disappointed. \\n\\nIt's just as th name says, \"On the Alley\" in the harbor on one of the alley in let's. It's...</td>\n",
       "      <td>5</td>\n",
       "      <td>[twice, times, disappoint, food, times, recommended, use, friend, disappointed, th, says, alley, harbor, alley, let, bitch'n, little, spot, order, inside, sit, alley, decent, space, seating, communal, seating, want, sit, near, luck, menu, pretty,...</td>\n",
       "    </tr>\n",
       "  </tbody>\n",
       "</table>\n",
       "<p>15320 rows × 4 columns</p>\n",
       "</div>"
      ],
      "text/plain": [
       "                    review_id  \\\n",
       "0      Ebl0LmHkLsQk9hP0rBm3GA   \n",
       "1      DBa7PNBoBGJMc2qXXl4pRA   \n",
       "2      BMfEah7vUKUvQeUTCR34iQ   \n",
       "3      hCBnvLjQ18P-j_6XdC6Vqg   \n",
       "4      SCmr3Z6qBnMd_D42YJxElA   \n",
       "...                       ...   \n",
       "15315  knje_Hin80Hi5J37dbi8Rg   \n",
       "15316  GlufU3g_n_kQz2ThBFj6_w   \n",
       "15317  OHFKY49tq2SYKLtAAcpVRg   \n",
       "15318  9B7uqL4wOBEWc0zxenzUUg   \n",
       "15319  PAa_KpNM4RUX7A4JTP0RKQ   \n",
       "\n",
       "                                                                                                                                                                                                                                                            text  \\\n",
       "0      Ate here twice and had both atmosphere and great tapas. The Jamon plate, bravas, Spanish omelette, stuffed date, pork, Brussels sprouts, wine and amazing pear dessert...I could go on and on. If visiting, Please make a reservation as soon as you a...   \n",
       "1                 My boyfriend and I got recommended this place by a SB local! We were just amazed! Everything from the look and feel of the place to the appetizer to the main dish, the dessert and the service was just perfect! Our food was just amazing!!!   \n",
       "2      I had no expectations being a first time customer, however it didn't live up to the expectations. It being a busy night I'm surprised they did not have enough bartenders at the bar. It also made it hard not knowing who was a bartender and on top ...   \n",
       "3      It was a pleasant surprise walking into this restaurant from the customer service to the food. If you're ever staying at the Hampton Inns and looking for great tasting Mexican food at walking distance check out El Pollo RICO. I ordered 1/4 of chi...   \n",
       "4      Everything we had today at Mesa Burger was great.  Super friendly staff here.  Fries and onion rings were delivered hot!  Ask for some ranch on the side.\\n\\nBoth Mesa Burgers we ordered were cooked perfectly.  One turkey, the other beef.  Both ta...   \n",
       "...                                                                                                                                                                                                                                                          ...   \n",
       "15315  We ate lunch on NY eve as part of the Funk zone celebration. Kids are free though that was specific to the event. Our meal included Black and Bleu burger. My wife said it was delicious.  I had the pastrami sandwich which was the best I've ever ta...   \n",
       "15316  TL;DR - go here. These other thousands of reviews don't lie; such good Mexican food and there was a bit of a wait even at 1pm but it moved along quickly and we got a table before our food arrived. \\n\\nEverything we ordered was really good - the v...   \n",
       "15317  This is Santa Barbara's best kept secret. \\n\\nI first went here when I was eight years old. One day when I was reading at Chaucer's bookstore (and it's still there), we wanted to get dinner. Then we saw Harry's and decided to stop by. It was one ...   \n",
       "15318  My wife went to lunch there today, I was recommended The Rev. ( Fish and Chips )by the waitress. It undoubtedly was the absolute worst and greasiest Mahi Mahi I ever tasted and the curly fries were dripping with cooking oil. Couldn't eat them.I r...   \n",
       "15319  Been here twice, and both times didn't disappoint. Had the same food both times. This was recommended to use from a friend and we weren't disappointed. \\n\\nIt's just as th name says, \"On the Alley\" in the harbor on one of the alley in let's. It's...   \n",
       "\n",
       "       stars  \\\n",
       "0          5   \n",
       "1          5   \n",
       "2          1   \n",
       "3          5   \n",
       "4          5   \n",
       "...      ...   \n",
       "15315      5   \n",
       "15316      5   \n",
       "15317      5   \n",
       "15318      1   \n",
       "15319      5   \n",
       "\n",
       "                                                                                                                                                                                                                                                          tokens  \n",
       "0      [ate, twice, atmosphere, great, tapas, jamon, plate, bravas, spanish, omelette, stuffed, date, pork, brussels, sprouts, wine, amazing, pear, dessert, visiting, reservation, soon, arrive, town, eat, 9, pm, heard, serve, jamon, appetizers, bar, res...  \n",
       "1                                                                                                                    [boyfriend, got, recommended, place, sb, local, amazed, look, feel, place, appetizer, main, dish, dessert, service, perfect, food, amazing]  \n",
       "2                                                                        [expectations, time, customer, live, expectations, busy, night, surprised, bartenders, bar, hard, knowing, bartender, bartender, left, section, couple, minutes, coming, anytime, soon]  \n",
       "3      [pleasant, surprise, walking, restaurant, customer, service, food, staying, hampton, inns, looking, great, tasting, mexican, food, walking, distance, check, el, pollo, rico, ordered, 1/4, chicken, plate, boyfriend, ordered, 1/4, combo, chicken, t...  \n",
       "4      [today, mesa, burger, great, super, friendly, staff, fries, onion, rings, delivered, hot, ask, ranch, mesa, burgers, ordered, cooked, perfectly, turkey, beef, tasted, good, quality, bite, gf, turkey, burger, generally, stay, away, turkey, burgers...  \n",
       "...                                                                                                                                                                                                                                                          ...  \n",
       "15315  [ate, lunch, ny, eve, funk, zone, celebration, kids, free, specific, event, meal, included, black, bleu, burger, wife, said, delicious, pastrami, sandwich, best, tasted, shared, fried, cauliflower, buffalo, sauce, amazing, craft, beer, menu, adva...  \n",
       "15316  [tl;dr, thousands, reviews, lie, good, mexican, food, bit, wait, 1, pm, moved, quickly, got, table, food, arrived, ordered, good, veggie, suiza, enchiladas, steak, wet, burrito, burrito, mojado, got, fizzy, guava, soda, hella, good, chips, salsa,...  \n",
       "15317  [santa, barbara, best, kept, secret, went, years, old, day, reading, chaucer, bookstore, wanted, dinner, saw, harry, decided, stop, best, decisions, harry, looks, inconspicuous, outside, inside, know, right, choice, sets, apart, different, touris...  \n",
       "15318  [wife, went, lunch, today, recommended, rev., fish, chips, waitress, undoubtedly, absolute, worst, greasiest, mahi, mahi, tasted, curly, fries, dripping, cooking, oil, eat, recommend, remove, menu, ordered, breakfast, bacon, good, salty, breakfas...  \n",
       "15319  [twice, times, disappoint, food, times, recommended, use, friend, disappointed, th, says, alley, harbor, alley, let, bitch'n, little, spot, order, inside, sit, alley, decent, space, seating, communal, seating, want, sit, near, luck, menu, pretty,...  \n",
       "\n",
       "[15320 rows x 4 columns]"
      ]
     },
     "execution_count": 5,
     "metadata": {},
     "output_type": "execute_result"
    }
   ],
   "source": [
    "df['tokens'] = fn.batch_preprocess_texts(df['text'])\n",
    "df"
   ]
  },
  {
   "cell_type": "code",
   "execution_count": 6,
   "metadata": {},
   "outputs": [
    {
     "data": {
      "text/html": [
       "<div>\n",
       "<style scoped>\n",
       "    .dataframe tbody tr th:only-of-type {\n",
       "        vertical-align: middle;\n",
       "    }\n",
       "\n",
       "    .dataframe tbody tr th {\n",
       "        vertical-align: top;\n",
       "    }\n",
       "\n",
       "    .dataframe thead th {\n",
       "        text-align: right;\n",
       "    }\n",
       "</style>\n",
       "<table border=\"1\" class=\"dataframe\">\n",
       "  <thead>\n",
       "    <tr style=\"text-align: right;\">\n",
       "      <th></th>\n",
       "      <th>Words</th>\n",
       "      <th>Raw Freq</th>\n",
       "    </tr>\n",
       "  </thead>\n",
       "  <tbody>\n",
       "    <tr>\n",
       "      <th>0</th>\n",
       "      <td>(santa, barbara)</td>\n",
       "      <td>0.005193</td>\n",
       "    </tr>\n",
       "    <tr>\n",
       "      <th>1</th>\n",
       "      <td>(highly, recommend)</td>\n",
       "      <td>0.001585</td>\n",
       "    </tr>\n",
       "    <tr>\n",
       "      <th>2</th>\n",
       "      <td>(great, food)</td>\n",
       "      <td>0.001346</td>\n",
       "    </tr>\n",
       "    <tr>\n",
       "      <th>3</th>\n",
       "      <td>(great, service)</td>\n",
       "      <td>0.001222</td>\n",
       "    </tr>\n",
       "    <tr>\n",
       "      <th>4</th>\n",
       "      <td>(customer, service)</td>\n",
       "      <td>0.001204</td>\n",
       "    </tr>\n",
       "    <tr>\n",
       "      <th>...</th>\n",
       "      <td>...</td>\n",
       "      <td>...</td>\n",
       "    </tr>\n",
       "    <tr>\n",
       "      <th>305104</th>\n",
       "      <td>(麻辣汤, sure)</td>\n",
       "      <td>0.000002</td>\n",
       "    </tr>\n",
       "    <tr>\n",
       "      <th>305105</th>\n",
       "      <td>(麻辣牛粉丝煲, favorite)</td>\n",
       "      <td>0.000002</td>\n",
       "    </tr>\n",
       "    <tr>\n",
       "      <th>305106</th>\n",
       "      <td>(～, boss)</td>\n",
       "      <td>0.000002</td>\n",
       "    </tr>\n",
       "    <tr>\n",
       "      <th>305107</th>\n",
       "      <td>(～, think)</td>\n",
       "      <td>0.000002</td>\n",
       "    </tr>\n",
       "    <tr>\n",
       "      <th>305108</th>\n",
       "      <td>(～, 和朋友一起来吃的，非常好吃！尤其是冰粉，锅底也非常赞，正宗的重庆火锅，价格公道，强烈推荐)</td>\n",
       "      <td>0.000002</td>\n",
       "    </tr>\n",
       "  </tbody>\n",
       "</table>\n",
       "<p>305109 rows × 2 columns</p>\n",
       "</div>"
      ],
      "text/plain": [
       "                                                    Words  Raw Freq\n",
       "0                                        (santa, barbara)  0.005193\n",
       "1                                     (highly, recommend)  0.001585\n",
       "2                                           (great, food)  0.001346\n",
       "3                                        (great, service)  0.001222\n",
       "4                                     (customer, service)  0.001204\n",
       "...                                                   ...       ...\n",
       "305104                                        (麻辣汤, sure)  0.000002\n",
       "305105                                 (麻辣牛粉丝煲, favorite)  0.000002\n",
       "305106                                          (～, boss)  0.000002\n",
       "305107                                         (～, think)  0.000002\n",
       "305108  (～, 和朋友一起来吃的，非常好吃！尤其是冰粉，锅底也非常赞，正宗的重庆火锅，价格公道，强烈推荐)  0.000002\n",
       "\n",
       "[305109 rows x 2 columns]"
      ]
     },
     "execution_count": 6,
     "metadata": {},
     "output_type": "execute_result"
    }
   ],
   "source": [
    "ngrams_df = fn.get_ngram_measures_finder(df['tokens'].explode().to_list())\n",
    "ngrams_df"
   ]
  },
  {
   "cell_type": "markdown",
   "metadata": {},
   "source": [
    "### Machine Learning"
   ]
  },
  {
   "cell_type": "code",
   "execution_count": 7,
   "metadata": {},
   "outputs": [
    {
     "data": {
      "text/html": [
       "<div>\n",
       "<style scoped>\n",
       "    .dataframe tbody tr th:only-of-type {\n",
       "        vertical-align: middle;\n",
       "    }\n",
       "\n",
       "    .dataframe tbody tr th {\n",
       "        vertical-align: top;\n",
       "    }\n",
       "\n",
       "    .dataframe thead th {\n",
       "        text-align: right;\n",
       "    }\n",
       "</style>\n",
       "<table border=\"1\" class=\"dataframe\">\n",
       "  <thead>\n",
       "    <tr style=\"text-align: right;\">\n",
       "      <th></th>\n",
       "      <th>review_id</th>\n",
       "      <th>text</th>\n",
       "      <th>stars</th>\n",
       "      <th>tokens</th>\n",
       "    </tr>\n",
       "  </thead>\n",
       "  <tbody>\n",
       "    <tr>\n",
       "      <th>0</th>\n",
       "      <td>Ebl0LmHkLsQk9hP0rBm3GA</td>\n",
       "      <td>Ate here twice and had both atmosphere and great tapas. The Jamon plate, bravas, Spanish omelette, stuffed date, pork, Brussels sprouts, wine and amazing pear dessert...I could go on and on. If visiting, Please make a reservation as soon as you a...</td>\n",
       "      <td>5</td>\n",
       "      <td>[ate, twice, atmosphere, great, tapas, jamon, plate, bravas, spanish, omelette, stuffed, date, pork, brussels, sprouts, wine, amazing, pear, dessert, visiting, reservation, soon, arrive, town, eat, 9, pm, heard, serve, jamon, appetizers, bar, res...</td>\n",
       "    </tr>\n",
       "    <tr>\n",
       "      <th>1</th>\n",
       "      <td>DBa7PNBoBGJMc2qXXl4pRA</td>\n",
       "      <td>My boyfriend and I got recommended this place by a SB local! We were just amazed! Everything from the look and feel of the place to the appetizer to the main dish, the dessert and the service was just perfect! Our food was just amazing!!!</td>\n",
       "      <td>5</td>\n",
       "      <td>[boyfriend, got, recommended, place, sb, local, amazed, look, feel, place, appetizer, main, dish, dessert, service, perfect, food, amazing]</td>\n",
       "    </tr>\n",
       "    <tr>\n",
       "      <th>2</th>\n",
       "      <td>BMfEah7vUKUvQeUTCR34iQ</td>\n",
       "      <td>I had no expectations being a first time customer, however it didn't live up to the expectations. It being a busy night I'm surprised they did not have enough bartenders at the bar. It also made it hard not knowing who was a bartender and on top ...</td>\n",
       "      <td>1</td>\n",
       "      <td>[expectations, time, customer, live, expectations, busy, night, surprised, bartenders, bar, hard, knowing, bartender, bartender, left, section, couple, minutes, coming, anytime, soon]</td>\n",
       "    </tr>\n",
       "    <tr>\n",
       "      <th>3</th>\n",
       "      <td>hCBnvLjQ18P-j_6XdC6Vqg</td>\n",
       "      <td>It was a pleasant surprise walking into this restaurant from the customer service to the food. If you're ever staying at the Hampton Inns and looking for great tasting Mexican food at walking distance check out El Pollo RICO. I ordered 1/4 of chi...</td>\n",
       "      <td>5</td>\n",
       "      <td>[pleasant, surprise, walking, restaurant, customer, service, food, staying, hampton, inns, looking, great, tasting, mexican, food, walking, distance, check, el, pollo, rico, ordered, 1/4, chicken, plate, boyfriend, ordered, 1/4, combo, chicken, t...</td>\n",
       "    </tr>\n",
       "    <tr>\n",
       "      <th>4</th>\n",
       "      <td>SCmr3Z6qBnMd_D42YJxElA</td>\n",
       "      <td>Everything we had today at Mesa Burger was great.  Super friendly staff here.  Fries and onion rings were delivered hot!  Ask for some ranch on the side.\\n\\nBoth Mesa Burgers we ordered were cooked perfectly.  One turkey, the other beef.  Both ta...</td>\n",
       "      <td>5</td>\n",
       "      <td>[today, mesa, burger, great, super, friendly, staff, fries, onion, rings, delivered, hot, ask, ranch, mesa, burgers, ordered, cooked, perfectly, turkey, beef, tasted, good, quality, bite, gf, turkey, burger, generally, stay, away, turkey, burgers...</td>\n",
       "    </tr>\n",
       "  </tbody>\n",
       "</table>\n",
       "</div>"
      ],
      "text/plain": [
       "                review_id  \\\n",
       "0  Ebl0LmHkLsQk9hP0rBm3GA   \n",
       "1  DBa7PNBoBGJMc2qXXl4pRA   \n",
       "2  BMfEah7vUKUvQeUTCR34iQ   \n",
       "3  hCBnvLjQ18P-j_6XdC6Vqg   \n",
       "4  SCmr3Z6qBnMd_D42YJxElA   \n",
       "\n",
       "                                                                                                                                                                                                                                                        text  \\\n",
       "0  Ate here twice and had both atmosphere and great tapas. The Jamon plate, bravas, Spanish omelette, stuffed date, pork, Brussels sprouts, wine and amazing pear dessert...I could go on and on. If visiting, Please make a reservation as soon as you a...   \n",
       "1             My boyfriend and I got recommended this place by a SB local! We were just amazed! Everything from the look and feel of the place to the appetizer to the main dish, the dessert and the service was just perfect! Our food was just amazing!!!   \n",
       "2  I had no expectations being a first time customer, however it didn't live up to the expectations. It being a busy night I'm surprised they did not have enough bartenders at the bar. It also made it hard not knowing who was a bartender and on top ...   \n",
       "3  It was a pleasant surprise walking into this restaurant from the customer service to the food. If you're ever staying at the Hampton Inns and looking for great tasting Mexican food at walking distance check out El Pollo RICO. I ordered 1/4 of chi...   \n",
       "4  Everything we had today at Mesa Burger was great.  Super friendly staff here.  Fries and onion rings were delivered hot!  Ask for some ranch on the side.\\n\\nBoth Mesa Burgers we ordered were cooked perfectly.  One turkey, the other beef.  Both ta...   \n",
       "\n",
       "   stars  \\\n",
       "0      5   \n",
       "1      5   \n",
       "2      1   \n",
       "3      5   \n",
       "4      5   \n",
       "\n",
       "                                                                                                                                                                                                                                                      tokens  \n",
       "0  [ate, twice, atmosphere, great, tapas, jamon, plate, bravas, spanish, omelette, stuffed, date, pork, brussels, sprouts, wine, amazing, pear, dessert, visiting, reservation, soon, arrive, town, eat, 9, pm, heard, serve, jamon, appetizers, bar, res...  \n",
       "1                                                                                                                [boyfriend, got, recommended, place, sb, local, amazed, look, feel, place, appetizer, main, dish, dessert, service, perfect, food, amazing]  \n",
       "2                                                                    [expectations, time, customer, live, expectations, busy, night, surprised, bartenders, bar, hard, knowing, bartender, bartender, left, section, couple, minutes, coming, anytime, soon]  \n",
       "3  [pleasant, surprise, walking, restaurant, customer, service, food, staying, hampton, inns, looking, great, tasting, mexican, food, walking, distance, check, el, pollo, rico, ordered, 1/4, chicken, plate, boyfriend, ordered, 1/4, combo, chicken, t...  \n",
       "4  [today, mesa, burger, great, super, friendly, staff, fries, onion, rings, delivered, hot, ask, ranch, mesa, burgers, ordered, cooked, perfectly, turkey, beef, tasted, good, quality, bite, gf, turkey, burger, generally, stay, away, turkey, burgers...  "
      ]
     },
     "execution_count": 7,
     "metadata": {},
     "output_type": "execute_result"
    }
   ],
   "source": [
    "df.head()"
   ]
  },
  {
   "cell_type": "code",
   "execution_count": 8,
   "metadata": {},
   "outputs": [
    {
     "data": {
      "text/plain": [
       "array(['Five Stars', 'One Star'], dtype=object)"
      ]
     },
     "execution_count": 8,
     "metadata": {},
     "output_type": "execute_result"
    }
   ],
   "source": [
    "rename_target_map = {1:'One Star', 5:\"Five Stars\"}\n",
    "y = df['stars'].replace(rename_target_map)\n",
    "X = df['text']\n",
    "# Train test split\n",
    "X_train, X_test, y_train_str, y_test_str = train_test_split(X,y,test_size=0.25,\n",
    "                                                    random_state=321)\n",
    "np.unique(y_train_str)"
   ]
  },
  {
   "cell_type": "code",
   "execution_count": 9,
   "metadata": {},
   "outputs": [
    {
     "data": {
      "text/plain": [
       "Five Stars    0.846997\n",
       "One Star      0.153003\n",
       "Name: stars, dtype: float64"
      ]
     },
     "execution_count": 9,
     "metadata": {},
     "output_type": "execute_result"
    }
   ],
   "source": [
    "# Check class balance\n",
    "y_train_str.value_counts(normalize = True)\n"
   ]
  },
  {
   "cell_type": "code",
   "execution_count": null,
   "metadata": {},
   "outputs": [],
   "source": []
  },
  {
   "cell_type": "code",
   "execution_count": 10,
   "metadata": {},
   "outputs": [
    {
     "data": {
      "text/plain": [
       "array([0, 0, 0, 0, 0, 1, 0, 0, 0, 0])"
      ]
     },
     "execution_count": 10,
     "metadata": {},
     "output_type": "execute_result"
    }
   ],
   "source": [
    "from sklearn.preprocessing import LabelEncoder\n",
    "# Getting unique classes to convert \n",
    "class_names = y_train_str.unique()\n",
    "\n",
    "# Fit the label encoder on unique class names\n",
    "encoder = LabelEncoder()\n",
    "encoder.fit(class_names)\n",
    "\n",
    "# Transform the y_train_str and y_test_str with encoder\n",
    "y_train = encoder.transform(y_train_str)\n",
    "y_test = encoder.transform(y_test_str)\n",
    "y_train[:10]"
   ]
  },
  {
   "cell_type": "code",
   "execution_count": 11,
   "metadata": {},
   "outputs": [
    {
     "data": {
      "text/plain": [
       "{0: 'Five Stars', 1: 'One Star'}"
      ]
     },
     "execution_count": 11,
     "metadata": {},
     "output_type": "execute_result"
    }
   ],
   "source": [
    "# Extract the class names from the encoder\n",
    "classes = encoder.classes_\n",
    "# Get the encoded values for each both classes\n",
    "class_codes = encoder.transform(classes)\n",
    "# Making lookup dictionary to find the encoded label's original name\n",
    "target_lookup = dict(zip(class_codes,classes ))\n",
    "target_lookup"
   ]
  },
  {
   "cell_type": "code",
   "execution_count": 12,
   "metadata": {},
   "outputs": [
    {
     "data": {
      "text/plain": [
       "array([\"When you're in the mood to be super chill, Boathouse at Hendry's is IT. Tucked away at Arroyo Burro, it's as close as you can get to intimate fine dining on the beach. The food is excellent - try the oysters. There's even a happy hour. Waits can be a little long at popular times, but you can kick it on the beach while you wait. It's a pretty sweet deal.\",\n",
       "       \"This is my favorite go to place for tacos in SB! Fast service, great price, decent portions and very tasty! If you're here in a weekend make sure you try the tripas (I get mine crispy all the time!). Most recently I got cabeza and that was great too! The meat is very tender!\",\n",
       "       \"I come here way to often. At least 2 times a week. Their sandwiches are so good. They people are so friendly. If I'm getting a sandwich on my lunch break I always make sure to call it in because they get so busy. I always go for the super deluxe and add pickles and olives. So good!\",\n",
       "       ...,\n",
       "       \"3 times I have been here and 3 times I have gotten seriously ill from the food. Seems the bathrooms are the most used area and most people are in there for a while I think something is wrong with the food. My stomach has been torn apart the three times i have ventured here. I recommend to avoid unless you have stomach meds. Also the chicken quesadilla had barely any chicken barely any cheese and a crap ton of cilantro and other stuff so I would say overpriced for the quantity and quality you receive. When you can't pickup a slice of the quesadilla without it totally falling apart it's quite sad.\",\n",
       "       'Went in to have dinner, was seated quickly but then did not have a server even acknowledge us after 12 min. Not even a glass of water. Too many restaurants on the pier to put up with that type of service.',\n",
       "       'I did not like the food. I had an allergy afterwards because the food was not fresh. I had a california roll and the cucumber salad. There is some un-fresh ingredients is why I had allergic problem afterwards. I did not like this place. Very warm inside no air conditioning. The restrooms are so very dirty and gross. The doors, handles, etc so gross.'],\n",
       "      dtype=object)"
      ]
     },
     "execution_count": 12,
     "metadata": {},
     "output_type": "execute_result"
    }
   ],
   "source": [
    "# Use RUS to balance the classes\n",
    "sampler = RandomUnderSampler(random_state=42)\n",
    "X_train, y_train = sampler.fit_resample(X_train.values.reshape(-1,1),y_train)\n",
    "X_train = X_train.flatten()\n",
    "X_train"
   ]
  },
  {
   "cell_type": "code",
   "execution_count": 13,
   "metadata": {},
   "outputs": [
    {
     "data": {
      "text/plain": [
       "0    0.5\n",
       "1    0.5\n",
       "dtype: float64"
      ]
     },
     "execution_count": 13,
     "metadata": {},
     "output_type": "execute_result"
    }
   ],
   "source": [
    "# Check for class balance\n",
    "pd.Series(y_train).value_counts(normalize=True)"
   ]
  },
  {
   "cell_type": "code",
   "execution_count": 14,
   "metadata": {},
   "outputs": [
    {
     "name": "stdout",
     "output_type": "stream",
     "text": [
      "----------------------------------------------------------------------\n",
      " Classification Metrics: Training Data\n",
      "----------------------------------------------------------------------\n",
      "              precision    recall  f1-score   support\n",
      "\n",
      "           0       0.98      0.99      0.98      1758\n",
      "           1       0.99      0.98      0.98      1758\n",
      "\n",
      "    accuracy                           0.98      3516\n",
      "   macro avg       0.98      0.98      0.98      3516\n",
      "weighted avg       0.98      0.98      0.98      3516\n",
      "\n"
     ]
    },
    {
     "data": {
      "image/png": "[encoded data removed]",
      "text/plain": [
       "<Figure size 600x400 with 2 Axes>"
      ]
     },
     "metadata": {},
     "output_type": "display_data"
    },
    {
     "name": "stdout",
     "output_type": "stream",
     "text": [
      "\n",
      "----------------------------------------------------------------------\n",
      " Classification Metrics: Test Data\n",
      "----------------------------------------------------------------------\n",
      "              precision    recall  f1-score   support\n",
      "\n",
      "           0       0.99      0.96      0.97      3231\n",
      "           1       0.81      0.95      0.88       599\n",
      "\n",
      "    accuracy                           0.96      3830\n",
      "   macro avg       0.90      0.95      0.93      3830\n",
      "weighted avg       0.96      0.96      0.96      3830\n",
      "\n"
     ]
    },
    {
     "data": {
      "image/png": "[encoded data removed]",
      "text/plain": [
       "<Figure size 600x400 with 2 Axes>"
      ]
     },
     "metadata": {},
     "output_type": "display_data"
    }
   ],
   "source": [
    "# Create a pipeline with a vectorizer and classification model.\n",
    "nb_pipe = Pipeline([('vectorizer', CountVectorizer(stop_words=\"english\")),\n",
    "                     ('clf',MultinomialNB())])\n",
    "# clf_nb = MultinomialNB()\n",
    "nb_pipe.fit(X_train, y_train)\n",
    "fn.evaluate_classification(nb_pipe, X_train,y_train, X_test, y_test)\n"
   ]
  },
  {
   "cell_type": "code",
   "execution_count": 25,
   "metadata": {},
   "outputs": [
    {
     "name": "stdout",
     "output_type": "stream",
     "text": [
      "----------------------------------------------------------------------\n",
      " Classification Metrics: \n",
      "----------------------------------------------------------------------\n",
      "              precision    recall  f1-score   support\n",
      "\n",
      "  Five Stars       0.99      0.96      0.97      3231\n",
      "    One Star       0.81      0.95      0.88       599\n",
      "\n",
      "    accuracy                           0.96      3830\n",
      "   macro avg       0.90      0.95      0.93      3830\n",
      "weighted avg       0.96      0.96      0.96      3830\n",
      "\n",
      "\n",
      "\n"
     ]
    },
    {
     "data": {
      "image/png": "[encoded data removed]",
      "text/plain": [
       "<Figure size 800x400 with 2 Axes>"
      ]
     },
     "metadata": {},
     "output_type": "display_data"
    }
   ],
   "source": [
    "y_pred = nb_pipe.predict(X_test)\n",
    "report, conf_mat = fn.classification_metrics_streamlit(y_test, y_pred, class_names=class_names)\n",
    "print(report)"
   ]
  },
  {
   "cell_type": "markdown",
   "metadata": {},
   "source": [
    "### Tensorflow"
   ]
  },
  {
   "cell_type": "code",
   "execution_count": 15,
   "metadata": {},
   "outputs": [],
   "source": [
    "# Make a dataset object from train data\n",
    "train_tf = tf.data.Dataset.from_tensor_slices((X_train, y_train))\n",
    "# Make a dataset object from test data\n",
    "test_tf = tf.data.Dataset.from_tensor_slices((X_test, y_test))\n",
    "\n",
    "# Shuffle dataset\n",
    "train_tf = train_tf.shuffle(buffer_size=len(train_tf),reshuffle_each_iteration=False)\n"
   ]
  },
  {
   "cell_type": "code",
   "execution_count": 16,
   "metadata": {},
   "outputs": [
    {
     "name": "stdout",
     "output_type": "stream",
     "text": [
      "    - train:\t2637 samples \t(83 batches)\n",
      "    - val:  \t879 samples \t(28 batches)\n",
      " There are 83 training batches.\n",
      " There are 28 validation batches.\n"
     ]
    }
   ],
   "source": [
    "\n",
    "# Set the ratio of the train, validation, test split\n",
    "split_train = .75\n",
    "split_val =  .25\n",
    "# Calculate the number of samples for training and validation data \n",
    "n_train_samples =  int(len(train_tf) * split_train)\n",
    "n_val_samples = int(len(train_tf) * split_val)\n",
    "\n",
    "# Set the batch size\n",
    "BATCH_SIZE =32\n",
    "import math\n",
    "\n",
    "# math.ceil will round up\n",
    "# How many batches? \n",
    "n_train_batches = math.ceil(n_train_samples/BATCH_SIZE)\n",
    "n_val_batches = math.ceil(n_val_samples/BATCH_SIZE)\n",
    "print(f\"    - train:\\t{n_train_samples} samples \\t({n_train_batches} batches)\")\n",
    "print(f\"    - val:  \\t{n_val_samples} samples \\t({n_val_batches} batches)\")\n",
    "\n",
    "# Use take and skip to define each set\n",
    "train_ds = train_tf.take(n_train_samples).batch(batch_size=BATCH_SIZE)\n",
    "# Skip over the training batches and take the validation batches\n",
    "val_ds = train_tf.skip(n_train_samples).take(n_val_samples).batch(batch_size=BATCH_SIZE)\n",
    "\n",
    "# Confirm the number of batches in each\n",
    "print (f' There are {len(train_ds)} training batches.')\n",
    "print (f' There are {len(val_ds)} validation batches.')\n",
    "\n"
   ]
  },
  {
   "cell_type": "code",
   "execution_count": 17,
   "metadata": {},
   "outputs": [
    {
     "name": "stdout",
     "output_type": "stream",
     "text": [
      " There are 120 testing batches.\n"
     ]
    }
   ],
   "source": [
    "# Put the test data into batches also\n",
    "test_ds = test_tf.batch(batch_size = BATCH_SIZE)\n",
    "# How many batches\n",
    "print (f' There are {len(test_ds)} testing batches.')\n"
   ]
  },
  {
   "cell_type": "code",
   "execution_count": 18,
   "metadata": {},
   "outputs": [
    {
     "data": {
      "text/plain": [
       "<tf.Tensor: shape=(32,), dtype=int64, numpy=\n",
       "array([0, 0, 1, 0, 0, 1, 0, 0, 0, 1, 1, 1, 0, 0, 0, 0, 1, 0, 1, 0, 1, 1,\n",
       "       1, 0, 1, 0, 0, 1, 0, 1, 0, 1])>"
      ]
     },
     "execution_count": 18,
     "metadata": {},
     "output_type": "execute_result"
    }
   ],
   "source": [
    "# Get a single element\n",
    "example_x, example_y = train_ds.take(1).get_single_element()\n",
    "example_y\n"
   ]
  },
  {
   "cell_type": "code",
   "execution_count": 19,
   "metadata": {},
   "outputs": [
    {
     "name": "stdout",
     "output_type": "stream",
     "text": [
      "\n",
      "tf.keras.layers.TextVectorization(\n",
      "{   'batch_input_shape': (None,),\n",
      "    'dtype': 'string',\n",
      "    'encoding': 'utf-8',\n",
      "    'idf_weights': None,\n",
      "    'max_tokens': None,\n",
      "    'name': 'text_vectorization',\n",
      "    'ngrams': None,\n",
      "    'output_mode': 'int',\n",
      "    'output_sequence_length': 400,\n",
      "    'pad_to_max_tokens': False,\n",
      "    'ragged': False,\n",
      "    'sparse': False,\n",
      "    'split': 'whitespace',\n",
      "    'standardize': 'lower_and_strip_punctuation',\n",
      "    'trainable': True,\n",
      "    'vocabulary': None,\n",
      "    'vocabulary_size': 10795}\n",
      ")\n"
     ]
    },
    {
     "name": "stderr",
     "output_type": "stream",
     "text": [
      "2023-12-15 17:30:04.944773: W tensorflow/tsl/platform/profile_utils/cpu_utils.cc:128] Failed to get CPU frequency: 0 Hz\n"
     ]
    }
   ],
   "source": [
    "# Define sequence length as a variable for future use\n",
    "SEQUENCE_LENGTH = 400\n",
    "# Define vectorizer layer. Use the custom function to build and fit the vectorizer before using it in model\n",
    "sequence_vectorizer, vocab_lookup = fn.make_text_vectorization_layer(\n",
    "    train_ds, output_mode=\"int\", output_sequence_length=SEQUENCE_LENGTH, verbose=True\n",
    ")\n"
   ]
  },
  {
   "cell_type": "code",
   "execution_count": 20,
   "metadata": {},
   "outputs": [],
   "source": [
    "from tensorflow.keras import layers, optimizers\n",
    "\n",
    "\n",
    "def build_gru_model_stack_deep_pool(text_vectorization_layer):\n",
    "    n_units = 64\n",
    "    dropout_rate = .4\n",
    "    \n",
    "    VOCAB_SIZE = text_vectorization_layer.vocabulary_size()\n",
    "        \n",
    "    model = tf.keras.Sequential([\n",
    "        text_vectorization_layer,\n",
    "        layers.Embedding(input_dim=VOCAB_SIZE,\n",
    "                                  output_dim=EMBED_DIM, \n",
    "                                  input_length=SEQUENCE_LENGTH)])\n",
    "\n",
    "    # Stack three GrU layers    \n",
    "    model.add(layers.GRU(n_units, return_sequences=True))\n",
    "    model.add(layers.Dropout(dropout_rate))\n",
    "    model.add(layers.GRU(n_units, return_sequences=True))\n",
    "    model.add(layers.Dropout(dropout_rate))         \n",
    "    # For the final GRU layer, use return_sequences = True for pooling layer\n",
    "    model.add(layers.GRU(n_units, return_sequences = True)) \n",
    "    model.add(layers.GlobalMaxPooling1D())\n",
    "    # Output layer\n",
    "    model.add(layers.Dense(len(classes), \n",
    "                              activation='softmax'))\n",
    "\n",
    "              \n",
    "    # Define optimizer\n",
    "    optimizer = optimizers.legacy.Adam()\n",
    "\n",
    "    # Compile\n",
    "    model.compile(optimizer=optimizer,  \n",
    "                  loss='sparse_categorical_crossentropy', metrics=['accuracy'])\n",
    "    model.summary()\n",
    "    return model\n",
    "\n",
    "\n",
    "def get_callbacks(patience=3, monitor='val_accuracy'):\n",
    "    early_stop = tf.keras.callbacks.EarlyStopping(patience=patience, monitor=monitor)\n",
    "    return [early_stop]\n"
   ]
  },
  {
   "cell_type": "code",
   "execution_count": 21,
   "metadata": {},
   "outputs": [
    {
     "name": "stdout",
     "output_type": "stream",
     "text": [
      "Model: \"sequential\"\n",
      "_________________________________________________________________\n",
      " Layer (type)                Output Shape              Param #   \n",
      "=================================================================\n",
      " text_vectorization (TextVec  (None, 400)              0         \n",
      " torization)                                                     \n",
      "                                                                 \n",
      " embedding (Embedding)       (None, 400, 100)          1079500   \n",
      "                                                                 \n",
      " gru (GRU)                   (None, 400, 64)           31872     \n",
      "                                                                 \n",
      " dropout (Dropout)           (None, 400, 64)           0         \n",
      "                                                                 \n",
      " gru_1 (GRU)                 (None, 400, 64)           24960     \n",
      "                                                                 \n",
      " dropout_1 (Dropout)         (None, 400, 64)           0         \n",
      "                                                                 \n",
      " gru_2 (GRU)                 (None, 400, 64)           24960     \n",
      "                                                                 \n",
      " global_max_pooling1d (Globa  (None, 64)               0         \n",
      " lMaxPooling1D)                                                  \n",
      "                                                                 \n",
      " dense (Dense)               (None, 2)                 130       \n",
      "                                                                 \n",
      "=================================================================\n",
      "Total params: 1,161,422\n",
      "Trainable params: 1,161,422\n",
      "Non-trainable params: 0\n",
      "_________________________________________________________________\n",
      "Epoch 1/3\n",
      "83/83 [==============================] - 30s 334ms/step - loss: 0.5593 - accuracy: 0.6834 - val_loss: 0.2830 - val_accuracy: 0.8919\n",
      "Epoch 2/3\n",
      "83/83 [==============================] - 27s 328ms/step - loss: 0.1572 - accuracy: 0.9431 - val_loss: 0.1814 - val_accuracy: 0.9306\n",
      "Epoch 3/3\n",
      "83/83 [==============================] - 27s 323ms/step - loss: 0.0350 - accuracy: 0.9913 - val_loss: 0.1514 - val_accuracy: 0.9465\n"
     ]
    },
    {
     "data": {
      "image/png": "[encoded data removed]",
      "text/plain": [
       "<Figure size 600x600 with 2 Axes>"
      ]
     },
     "metadata": {},
     "output_type": "display_data"
    },
    {
     "name": "stdout",
     "output_type": "stream",
     "text": [
      "\n",
      "================================================================================\n",
      "- Evaluating Network...\n",
      "================================================================================\n",
      "----------------------------------------------------------------------\n",
      " Classification Metrics: Test Data\n",
      "----------------------------------------------------------------------\n",
      "              precision    recall  f1-score   support\n",
      "\n",
      "           0       0.99      0.92      0.95      3231\n",
      "           1       0.69      0.95      0.80       599\n",
      "\n",
      "    accuracy                           0.93      3830\n",
      "   macro avg       0.84      0.94      0.88      3830\n",
      "weighted avg       0.94      0.93      0.93      3830\n",
      "\n"
     ]
    },
    {
     "data": {
      "image/png": "[encoded data removed]",
      "text/plain": [
       "<Figure size 600x400 with 2 Axes>"
      ]
     },
     "metadata": {},
     "output_type": "display_data"
    },
    {
     "name": "stdout",
     "output_type": "stream",
     "text": [
      "\n",
      "- Evaluating Test Data:\n",
      "120/120 [==============================] - 8s 65ms/step - loss: 0.2293 - accuracy: 0.9253\n",
      "{'loss': 0.22928237915039062, 'accuracy': 0.9253263473510742}\n"
     ]
    }
   ],
   "source": [
    "# Build model\n",
    "\n",
    "EMBED_DIM = 100\n",
    "model = build_gru_model_stack_deep_pool(sequence_vectorizer)\n",
    "\n",
    "EPOCHS = 3#Lesson is 30\n",
    "history = model.fit(\n",
    "    train_ds,\n",
    "    epochs=EPOCHS,\n",
    "    validation_data=val_ds,\n",
    "    callbacks=get_callbacks(),\n",
    ")\n",
    "results = fn.evaluate_classification_network(\n",
    "    model,\n",
    "    X_test=test_ds, history=history\n",
    ");\n"
   ]
  },
  {
   "cell_type": "code",
   "execution_count": 28,
   "metadata": {},
   "outputs": [
    {
     "data": {
      "text/plain": [
       "<module 'custom_functions' from '/Users/codingdojo/Documents/GitHub/_CURRICULUM/functions-from-curriculum/Course 06 - AML/custom_functions.py'>"
      ]
     },
     "execution_count": 28,
     "metadata": {},
     "output_type": "execute_result"
    }
   ],
   "source": [
    "fn"
   ]
  },
  {
   "cell_type": "code",
   "execution_count": 33,
   "metadata": {},
   "outputs": [
    {
     "name": "stdout",
     "output_type": "stream",
     "text": [
      "----------------------------------------------------------------------\n",
      " Classification Metrics: Training Data\n",
      "----------------------------------------------------------------------\n",
      "              precision    recall  f1-score   support\n",
      "\n",
      "  Five Stars       1.00      1.00      1.00      1323\n",
      "    One Star       1.00      1.00      1.00      1314\n",
      "\n",
      "    accuracy                           1.00      2637\n",
      "   macro avg       1.00      1.00      1.00      2637\n",
      "weighted avg       1.00      1.00      1.00      2637\n",
      "\n",
      "\n",
      "\n"
     ]
    },
    {
     "data": {
      "image/png": "[encoded data removed]",
      "text/plain": [
       "<Figure size 600x400 with 2 Axes>"
      ]
     },
     "metadata": {},
     "output_type": "display_data"
    }
   ],
   "source": [
    "# pred_ds = model.predict(test_ds)\n",
    "report, conf_mat = fn.classification_metrics_streamlit_tensorflow(model,X_train=train_ds, \n",
    "                                                                   class_names=class_names)\n",
    "print(report)"
   ]
  },
  {
   "cell_type": "code",
   "execution_count": null,
   "metadata": {},
   "outputs": [],
   "source": []
  }
 ],
 "metadata": {
  "kernelspec": {
   "display_name": "dojo-env",
   "language": "python",
   "name": "python3"
  },
  "language_info": {
   "codemirror_mode": {
    "name": "ipython",
    "version": 3
   },
   "file_extension": ".py",
   "mimetype": "text/x-python",
   "name": "python",
   "nbconvert_exporter": "python",
   "pygments_lexer": "ipython3",
   "version": "3.10.10"
  }
 },
 "nbformat": 4,
 "nbformat_minor": 2
}
